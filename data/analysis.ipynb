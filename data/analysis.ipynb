{
 "cells": [
  {
   "cell_type": "code",
   "execution_count": 26,
   "metadata": {},
   "outputs": [],
   "source": [
    "import pandas as pd\n",
    "import numpy as np\n",
    "import matplotlib as plt\n",
    "from datetime import datetime"
   ]
  },
  {
   "cell_type": "code",
   "execution_count": 27,
   "metadata": {},
   "outputs": [
    {
     "data": {
      "text/html": [
       "<div>\n",
       "<style scoped>\n",
       "    .dataframe tbody tr th:only-of-type {\n",
       "        vertical-align: middle;\n",
       "    }\n",
       "\n",
       "    .dataframe tbody tr th {\n",
       "        vertical-align: top;\n",
       "    }\n",
       "\n",
       "    .dataframe thead th {\n",
       "        text-align: right;\n",
       "    }\n",
       "</style>\n",
       "<table border=\"1\" class=\"dataframe\">\n",
       "  <thead>\n",
       "    <tr style=\"text-align: right;\">\n",
       "      <th></th>\n",
       "      <th>date</th>\n",
       "      <th>states</th>\n",
       "      <th>positive</th>\n",
       "      <th>negative</th>\n",
       "      <th>pending</th>\n",
       "      <th>hospitalizedCurrently</th>\n",
       "      <th>hospitalizedCumulative</th>\n",
       "      <th>inIcuCurrently</th>\n",
       "      <th>inIcuCumulative</th>\n",
       "      <th>onVentilatorCurrently</th>\n",
       "      <th>...</th>\n",
       "      <th>hospitalized</th>\n",
       "      <th>total</th>\n",
       "      <th>totalTestResults</th>\n",
       "      <th>posNeg</th>\n",
       "      <th>fips</th>\n",
       "      <th>deathIncrease</th>\n",
       "      <th>hospitalizedIncrease</th>\n",
       "      <th>negativeIncrease</th>\n",
       "      <th>positiveIncrease</th>\n",
       "      <th>totalTestResultsIncrease</th>\n",
       "    </tr>\n",
       "  </thead>\n",
       "  <tbody>\n",
       "    <tr>\n",
       "      <th>0</th>\n",
       "      <td>20200519</td>\n",
       "      <td>56</td>\n",
       "      <td>1520778</td>\n",
       "      <td>10713209.0</td>\n",
       "      <td>2944.0</td>\n",
       "      <td>41174.0</td>\n",
       "      <td>159634.0</td>\n",
       "      <td>9829.0</td>\n",
       "      <td>7217.0</td>\n",
       "      <td>5032.0</td>\n",
       "      <td>...</td>\n",
       "      <td>159634.0</td>\n",
       "      <td>12236931</td>\n",
       "      <td>12233987</td>\n",
       "      <td>12233987</td>\n",
       "      <td>NaN</td>\n",
       "      <td>1430.0</td>\n",
       "      <td>1671.0</td>\n",
       "      <td>378423.0</td>\n",
       "      <td>21056.0</td>\n",
       "      <td>399479.0</td>\n",
       "    </tr>\n",
       "    <tr>\n",
       "      <th>1</th>\n",
       "      <td>20200518</td>\n",
       "      <td>56</td>\n",
       "      <td>1499722</td>\n",
       "      <td>10334786.0</td>\n",
       "      <td>3596.0</td>\n",
       "      <td>40933.0</td>\n",
       "      <td>157963.0</td>\n",
       "      <td>10015.0</td>\n",
       "      <td>7064.0</td>\n",
       "      <td>5257.0</td>\n",
       "      <td>...</td>\n",
       "      <td>157963.0</td>\n",
       "      <td>11838104</td>\n",
       "      <td>11834508</td>\n",
       "      <td>11834508</td>\n",
       "      <td>NaN</td>\n",
       "      <td>786.0</td>\n",
       "      <td>1058.0</td>\n",
       "      <td>318456.0</td>\n",
       "      <td>19564.0</td>\n",
       "      <td>338020.0</td>\n",
       "    </tr>\n",
       "    <tr>\n",
       "      <th>2</th>\n",
       "      <td>20200517</td>\n",
       "      <td>56</td>\n",
       "      <td>1480158</td>\n",
       "      <td>10016330.0</td>\n",
       "      <td>3449.0</td>\n",
       "      <td>41108.0</td>\n",
       "      <td>156905.0</td>\n",
       "      <td>10164.0</td>\n",
       "      <td>7003.0</td>\n",
       "      <td>5467.0</td>\n",
       "      <td>...</td>\n",
       "      <td>156905.0</td>\n",
       "      <td>11499937</td>\n",
       "      <td>11496488</td>\n",
       "      <td>11496488</td>\n",
       "      <td>NaN</td>\n",
       "      <td>839.0</td>\n",
       "      <td>1179.0</td>\n",
       "      <td>383222.0</td>\n",
       "      <td>20737.0</td>\n",
       "      <td>403959.0</td>\n",
       "    </tr>\n",
       "    <tr>\n",
       "      <th>3</th>\n",
       "      <td>20200516</td>\n",
       "      <td>56</td>\n",
       "      <td>1459421</td>\n",
       "      <td>9633108.0</td>\n",
       "      <td>3788.0</td>\n",
       "      <td>42896.0</td>\n",
       "      <td>155726.0</td>\n",
       "      <td>10509.0</td>\n",
       "      <td>6945.0</td>\n",
       "      <td>5529.0</td>\n",
       "      <td>...</td>\n",
       "      <td>155726.0</td>\n",
       "      <td>11096317</td>\n",
       "      <td>11092529</td>\n",
       "      <td>11092529</td>\n",
       "      <td>NaN</td>\n",
       "      <td>1286.0</td>\n",
       "      <td>1860.0</td>\n",
       "      <td>327995.0</td>\n",
       "      <td>24943.0</td>\n",
       "      <td>352938.0</td>\n",
       "    </tr>\n",
       "    <tr>\n",
       "      <th>4</th>\n",
       "      <td>20200515</td>\n",
       "      <td>56</td>\n",
       "      <td>1434478</td>\n",
       "      <td>9305113.0</td>\n",
       "      <td>2457.0</td>\n",
       "      <td>42854.0</td>\n",
       "      <td>153866.0</td>\n",
       "      <td>10704.0</td>\n",
       "      <td>6890.0</td>\n",
       "      <td>5746.0</td>\n",
       "      <td>...</td>\n",
       "      <td>153866.0</td>\n",
       "      <td>10742048</td>\n",
       "      <td>10739591</td>\n",
       "      <td>10739591</td>\n",
       "      <td>NaN</td>\n",
       "      <td>1478.0</td>\n",
       "      <td>1295.0</td>\n",
       "      <td>337172.0</td>\n",
       "      <td>24373.0</td>\n",
       "      <td>361545.0</td>\n",
       "    </tr>\n",
       "  </tbody>\n",
       "</table>\n",
       "<p>5 rows × 25 columns</p>\n",
       "</div>"
      ],
      "text/plain": [
       "       date  states  positive    negative  pending  hospitalizedCurrently  \\\n",
       "0  20200519      56   1520778  10713209.0   2944.0                41174.0   \n",
       "1  20200518      56   1499722  10334786.0   3596.0                40933.0   \n",
       "2  20200517      56   1480158  10016330.0   3449.0                41108.0   \n",
       "3  20200516      56   1459421   9633108.0   3788.0                42896.0   \n",
       "4  20200515      56   1434478   9305113.0   2457.0                42854.0   \n",
       "\n",
       "   hospitalizedCumulative  inIcuCurrently  inIcuCumulative  \\\n",
       "0                159634.0          9829.0           7217.0   \n",
       "1                157963.0         10015.0           7064.0   \n",
       "2                156905.0         10164.0           7003.0   \n",
       "3                155726.0         10509.0           6945.0   \n",
       "4                153866.0         10704.0           6890.0   \n",
       "\n",
       "   onVentilatorCurrently  ...  hospitalized     total totalTestResults  \\\n",
       "0                 5032.0  ...      159634.0  12236931         12233987   \n",
       "1                 5257.0  ...      157963.0  11838104         11834508   \n",
       "2                 5467.0  ...      156905.0  11499937         11496488   \n",
       "3                 5529.0  ...      155726.0  11096317         11092529   \n",
       "4                 5746.0  ...      153866.0  10742048         10739591   \n",
       "\n",
       "     posNeg  fips  deathIncrease  hospitalizedIncrease  negativeIncrease  \\\n",
       "0  12233987   NaN         1430.0                1671.0          378423.0   \n",
       "1  11834508   NaN          786.0                1058.0          318456.0   \n",
       "2  11496488   NaN          839.0                1179.0          383222.0   \n",
       "3  11092529   NaN         1286.0                1860.0          327995.0   \n",
       "4  10739591   NaN         1478.0                1295.0          337172.0   \n",
       "\n",
       "   positiveIncrease  totalTestResultsIncrease  \n",
       "0           21056.0                  399479.0  \n",
       "1           19564.0                  338020.0  \n",
       "2           20737.0                  403959.0  \n",
       "3           24943.0                  352938.0  \n",
       "4           24373.0                  361545.0  \n",
       "\n",
       "[5 rows x 25 columns]"
      ]
     },
     "execution_count": 27,
     "metadata": {},
     "output_type": "execute_result"
    }
   ],
   "source": [
    "us_daily = pd.read_csv(\"us_daily.csv\", delimiter=\",\")\n",
    "us_daily.head()"
   ]
  },
  {
   "cell_type": "code",
   "execution_count": 28,
   "metadata": {},
   "outputs": [
    {
     "data": {
      "text/html": [
       "<div>\n",
       "<style scoped>\n",
       "    .dataframe tbody tr th:only-of-type {\n",
       "        vertical-align: middle;\n",
       "    }\n",
       "\n",
       "    .dataframe tbody tr th {\n",
       "        vertical-align: top;\n",
       "    }\n",
       "\n",
       "    .dataframe thead th {\n",
       "        text-align: right;\n",
       "    }\n",
       "</style>\n",
       "<table border=\"1\" class=\"dataframe\">\n",
       "  <thead>\n",
       "    <tr style=\"text-align: right;\">\n",
       "      <th></th>\n",
       "      <th>date</th>\n",
       "      <th>states</th>\n",
       "      <th>positive</th>\n",
       "      <th>negative</th>\n",
       "      <th>pending</th>\n",
       "      <th>hospitalizedCurrently</th>\n",
       "      <th>hospitalizedCumulative</th>\n",
       "      <th>inIcuCurrently</th>\n",
       "      <th>inIcuCumulative</th>\n",
       "      <th>onVentilatorCurrently</th>\n",
       "      <th>...</th>\n",
       "      <th>hospitalized</th>\n",
       "      <th>total</th>\n",
       "      <th>totalTestResults</th>\n",
       "      <th>posNeg</th>\n",
       "      <th>fips</th>\n",
       "      <th>deathIncrease</th>\n",
       "      <th>hospitalizedIncrease</th>\n",
       "      <th>negativeIncrease</th>\n",
       "      <th>positiveIncrease</th>\n",
       "      <th>totalTestResultsIncrease</th>\n",
       "    </tr>\n",
       "  </thead>\n",
       "  <tbody>\n",
       "    <tr>\n",
       "      <th>0</th>\n",
       "      <td>2020-05-19</td>\n",
       "      <td>56</td>\n",
       "      <td>1520778</td>\n",
       "      <td>10713209.0</td>\n",
       "      <td>2944.0</td>\n",
       "      <td>41174.0</td>\n",
       "      <td>159634.0</td>\n",
       "      <td>9829.0</td>\n",
       "      <td>7217.0</td>\n",
       "      <td>5032.0</td>\n",
       "      <td>...</td>\n",
       "      <td>159634.0</td>\n",
       "      <td>12236931</td>\n",
       "      <td>12233987</td>\n",
       "      <td>12233987</td>\n",
       "      <td>NaN</td>\n",
       "      <td>1430.0</td>\n",
       "      <td>1671.0</td>\n",
       "      <td>378423.0</td>\n",
       "      <td>21056.0</td>\n",
       "      <td>399479.0</td>\n",
       "    </tr>\n",
       "    <tr>\n",
       "      <th>1</th>\n",
       "      <td>2020-05-18</td>\n",
       "      <td>56</td>\n",
       "      <td>1499722</td>\n",
       "      <td>10334786.0</td>\n",
       "      <td>3596.0</td>\n",
       "      <td>40933.0</td>\n",
       "      <td>157963.0</td>\n",
       "      <td>10015.0</td>\n",
       "      <td>7064.0</td>\n",
       "      <td>5257.0</td>\n",
       "      <td>...</td>\n",
       "      <td>157963.0</td>\n",
       "      <td>11838104</td>\n",
       "      <td>11834508</td>\n",
       "      <td>11834508</td>\n",
       "      <td>NaN</td>\n",
       "      <td>786.0</td>\n",
       "      <td>1058.0</td>\n",
       "      <td>318456.0</td>\n",
       "      <td>19564.0</td>\n",
       "      <td>338020.0</td>\n",
       "    </tr>\n",
       "    <tr>\n",
       "      <th>2</th>\n",
       "      <td>2020-05-17</td>\n",
       "      <td>56</td>\n",
       "      <td>1480158</td>\n",
       "      <td>10016330.0</td>\n",
       "      <td>3449.0</td>\n",
       "      <td>41108.0</td>\n",
       "      <td>156905.0</td>\n",
       "      <td>10164.0</td>\n",
       "      <td>7003.0</td>\n",
       "      <td>5467.0</td>\n",
       "      <td>...</td>\n",
       "      <td>156905.0</td>\n",
       "      <td>11499937</td>\n",
       "      <td>11496488</td>\n",
       "      <td>11496488</td>\n",
       "      <td>NaN</td>\n",
       "      <td>839.0</td>\n",
       "      <td>1179.0</td>\n",
       "      <td>383222.0</td>\n",
       "      <td>20737.0</td>\n",
       "      <td>403959.0</td>\n",
       "    </tr>\n",
       "    <tr>\n",
       "      <th>3</th>\n",
       "      <td>2020-05-16</td>\n",
       "      <td>56</td>\n",
       "      <td>1459421</td>\n",
       "      <td>9633108.0</td>\n",
       "      <td>3788.0</td>\n",
       "      <td>42896.0</td>\n",
       "      <td>155726.0</td>\n",
       "      <td>10509.0</td>\n",
       "      <td>6945.0</td>\n",
       "      <td>5529.0</td>\n",
       "      <td>...</td>\n",
       "      <td>155726.0</td>\n",
       "      <td>11096317</td>\n",
       "      <td>11092529</td>\n",
       "      <td>11092529</td>\n",
       "      <td>NaN</td>\n",
       "      <td>1286.0</td>\n",
       "      <td>1860.0</td>\n",
       "      <td>327995.0</td>\n",
       "      <td>24943.0</td>\n",
       "      <td>352938.0</td>\n",
       "    </tr>\n",
       "    <tr>\n",
       "      <th>4</th>\n",
       "      <td>2020-05-15</td>\n",
       "      <td>56</td>\n",
       "      <td>1434478</td>\n",
       "      <td>9305113.0</td>\n",
       "      <td>2457.0</td>\n",
       "      <td>42854.0</td>\n",
       "      <td>153866.0</td>\n",
       "      <td>10704.0</td>\n",
       "      <td>6890.0</td>\n",
       "      <td>5746.0</td>\n",
       "      <td>...</td>\n",
       "      <td>153866.0</td>\n",
       "      <td>10742048</td>\n",
       "      <td>10739591</td>\n",
       "      <td>10739591</td>\n",
       "      <td>NaN</td>\n",
       "      <td>1478.0</td>\n",
       "      <td>1295.0</td>\n",
       "      <td>337172.0</td>\n",
       "      <td>24373.0</td>\n",
       "      <td>361545.0</td>\n",
       "    </tr>\n",
       "  </tbody>\n",
       "</table>\n",
       "<p>5 rows × 25 columns</p>\n",
       "</div>"
      ],
      "text/plain": [
       "        date  states  positive    negative  pending  hospitalizedCurrently  \\\n",
       "0 2020-05-19      56   1520778  10713209.0   2944.0                41174.0   \n",
       "1 2020-05-18      56   1499722  10334786.0   3596.0                40933.0   \n",
       "2 2020-05-17      56   1480158  10016330.0   3449.0                41108.0   \n",
       "3 2020-05-16      56   1459421   9633108.0   3788.0                42896.0   \n",
       "4 2020-05-15      56   1434478   9305113.0   2457.0                42854.0   \n",
       "\n",
       "   hospitalizedCumulative  inIcuCurrently  inIcuCumulative  \\\n",
       "0                159634.0          9829.0           7217.0   \n",
       "1                157963.0         10015.0           7064.0   \n",
       "2                156905.0         10164.0           7003.0   \n",
       "3                155726.0         10509.0           6945.0   \n",
       "4                153866.0         10704.0           6890.0   \n",
       "\n",
       "   onVentilatorCurrently  ...  hospitalized     total totalTestResults  \\\n",
       "0                 5032.0  ...      159634.0  12236931         12233987   \n",
       "1                 5257.0  ...      157963.0  11838104         11834508   \n",
       "2                 5467.0  ...      156905.0  11499937         11496488   \n",
       "3                 5529.0  ...      155726.0  11096317         11092529   \n",
       "4                 5746.0  ...      153866.0  10742048         10739591   \n",
       "\n",
       "     posNeg  fips  deathIncrease  hospitalizedIncrease  negativeIncrease  \\\n",
       "0  12233987   NaN         1430.0                1671.0          378423.0   \n",
       "1  11834508   NaN          786.0                1058.0          318456.0   \n",
       "2  11496488   NaN          839.0                1179.0          383222.0   \n",
       "3  11092529   NaN         1286.0                1860.0          327995.0   \n",
       "4  10739591   NaN         1478.0                1295.0          337172.0   \n",
       "\n",
       "   positiveIncrease  totalTestResultsIncrease  \n",
       "0           21056.0                  399479.0  \n",
       "1           19564.0                  338020.0  \n",
       "2           20737.0                  403959.0  \n",
       "3           24943.0                  352938.0  \n",
       "4           24373.0                  361545.0  \n",
       "\n",
       "[5 rows x 25 columns]"
      ]
     },
     "execution_count": 28,
     "metadata": {},
     "output_type": "execute_result"
    }
   ],
   "source": [
    "us_daily.date = pd.to_datetime(us_daily.date, format='%Y%m%d')\n",
    "us_daily.head()"
   ]
  },
  {
   "cell_type": "code",
   "execution_count": 29,
   "metadata": {},
   "outputs": [
    {
     "data": {
      "text/plain": [
       "pandas._libs.tslibs.timestamps.Timestamp"
      ]
     },
     "execution_count": 29,
     "metadata": {},
     "output_type": "execute_result"
    }
   ],
   "source": [
    "type(us_daily.date[0])"
   ]
  },
  {
   "cell_type": "code",
   "execution_count": 30,
   "metadata": {},
   "outputs": [
    {
     "data": {
      "text/plain": [
       "<matplotlib.axes._subplots.AxesSubplot at 0x220b59bdd68>"
      ]
     },
     "execution_count": 30,
     "metadata": {},
     "output_type": "execute_result"
    },
    {
     "data": {
      "image/png": "[encoded data removed]",
      "text/plain": [
       "<Figure size 432x288 with 1 Axes>"
      ]
     },
     "metadata": {
      "needs_background": "light"
     },
     "output_type": "display_data"
    }
   ],
   "source": [
    "\n",
    "us_daily.plot(kind='line',x='date', y='positive', logy=True, title=\"Number of positive cases in the US (log scale)\")"
   ]
  },
  {
   "cell_type": "code",
   "execution_count": 31,
   "metadata": {},
   "outputs": [
    {
     "data": {
      "text/plain": [
       "(119, 25)"
      ]
     },
     "execution_count": 31,
     "metadata": {},
     "output_type": "execute_result"
    }
   ],
   "source": [
    "us_daily.shape\n",
    "# 119 rows and 25 columns"
   ]
  },
  {
   "cell_type": "code",
   "execution_count": 32,
   "metadata": {},
   "outputs": [
    {
     "data": {
      "text/plain": [
       "Index(['date', 'states', 'positive', 'negative', 'pending',\n",
       "       'hospitalizedCurrently', 'hospitalizedCumulative', 'inIcuCurrently',\n",
       "       'inIcuCumulative', 'onVentilatorCurrently', 'onVentilatorCumulative',\n",
       "       'recovered', 'hash', 'dateChecked', 'death', 'hospitalized', 'total',\n",
       "       'totalTestResults', 'posNeg', 'fips', 'deathIncrease',\n",
       "       'hospitalizedIncrease', 'negativeIncrease', 'positiveIncrease',\n",
       "       'totalTestResultsIncrease'],\n",
       "      dtype='object')"
      ]
     },
     "execution_count": 32,
     "metadata": {},
     "output_type": "execute_result"
    }
   ],
   "source": [
    "# Name of columns\n",
    "us_daily.columns"
   ]
  },
  {
   "cell_type": "code",
   "execution_count": 33,
   "metadata": {},
   "outputs": [
    {
     "data": {
      "text/plain": [
       "<matplotlib.axes._subplots.AxesSubplot at 0x220b5b1de48>"
      ]
     },
     "execution_count": 33,
     "metadata": {},
     "output_type": "execute_result"
    },
    {
     "data": {
      "image/png": "[encoded data removed]",
      "text/plain": [
       "<Figure size 432x288 with 1 Axes>"
      ]
     },
     "metadata": {
      "needs_background": "light"
     },
     "output_type": "display_data"
    }
   ],
   "source": [
    "us_daily.plot(x='date',y='death',logy=True, title='Number of deaths in the US (log scale)')"
   ]
  },
  {
   "cell_type": "code",
   "execution_count": 34,
   "metadata": {},
   "outputs": [
    {
     "data": {
      "text/plain": [
       "<matplotlib.axes._subplots.AxesSubplot at 0x220b4801668>"
      ]
     },
     "execution_count": 34,
     "metadata": {},
     "output_type": "execute_result"
    },
    {
     "data": {
      "image/png": "[encoded data removed]",
      "text/plain": [
       "<Figure size 432x288 with 1 Axes>"
      ]
     },
     "metadata": {
      "needs_background": "light"
     },
     "output_type": "display_data"
    }
   ],
   "source": [
    "# Is the US cutting back on # of tests?\n",
    "us_daily.plot(x='date',y='totalTestResults',logy=True)"
   ]
  },
  {
   "cell_type": "code",
   "execution_count": 38,
   "metadata": {},
   "outputs": [
    {
     "data": {
      "text/html": [
       "<div>\n",
       "<style scoped>\n",
       "    .dataframe tbody tr th:only-of-type {\n",
       "        vertical-align: middle;\n",
       "    }\n",
       "\n",
       "    .dataframe tbody tr th {\n",
       "        vertical-align: top;\n",
       "    }\n",
       "\n",
       "    .dataframe thead th {\n",
       "        text-align: right;\n",
       "    }\n",
       "</style>\n",
       "<table border=\"1\" class=\"dataframe\">\n",
       "  <thead>\n",
       "    <tr style=\"text-align: right;\">\n",
       "      <th></th>\n",
       "      <th>positive</th>\n",
       "      <th>negative</th>\n",
       "      <th>pending</th>\n",
       "      <th>hospitalizedCurrently</th>\n",
       "      <th>hospitalizedCumulative</th>\n",
       "      <th>inIcuCurrently</th>\n",
       "      <th>inIcuCumulative</th>\n",
       "      <th>onVentilatorCurrently</th>\n",
       "      <th>onVentilatorCumulative</th>\n",
       "      <th>recovered</th>\n",
       "      <th>hash</th>\n",
       "      <th>lastModified</th>\n",
       "      <th>death</th>\n",
       "      <th>hospitalized</th>\n",
       "      <th>total</th>\n",
       "      <th>totalTestResults</th>\n",
       "      <th>posNeg</th>\n",
       "      <th>notes</th>\n",
       "    </tr>\n",
       "  </thead>\n",
       "  <tbody>\n",
       "    <tr>\n",
       "      <th>0</th>\n",
       "      <td>1520778</td>\n",
       "      <td>10713209</td>\n",
       "      <td>2944</td>\n",
       "      <td>41174</td>\n",
       "      <td>159634</td>\n",
       "      <td>9829</td>\n",
       "      <td>7217</td>\n",
       "      <td>5032</td>\n",
       "      <td>606</td>\n",
       "      <td>289392</td>\n",
       "      <td>c5ea19e372bf8175c92aa8dd8eb6fa9e29763e17</td>\n",
       "      <td>5/20/2020</td>\n",
       "      <td>86070</td>\n",
       "      <td>159634</td>\n",
       "      <td>12236931</td>\n",
       "      <td>12233987</td>\n",
       "      <td>12233987</td>\n",
       "      <td>NOTE: \"total\", \"posNeg\", \"hospitalized\" will b...</td>\n",
       "    </tr>\n",
       "  </tbody>\n",
       "</table>\n",
       "</div>"
      ],
      "text/plain": [
       "   positive  negative  pending  hospitalizedCurrently  hospitalizedCumulative  \\\n",
       "0   1520778  10713209     2944                  41174                  159634   \n",
       "\n",
       "   inIcuCurrently  inIcuCumulative  onVentilatorCurrently  \\\n",
       "0            9829             7217                   5032   \n",
       "\n",
       "   onVentilatorCumulative  recovered  \\\n",
       "0                     606     289392   \n",
       "\n",
       "                                       hash lastModified  death  hospitalized  \\\n",
       "0  c5ea19e372bf8175c92aa8dd8eb6fa9e29763e17    5/20/2020  86070        159634   \n",
       "\n",
       "      total  totalTestResults    posNeg  \\\n",
       "0  12236931          12233987  12233987   \n",
       "\n",
       "                                               notes  \n",
       "0  NOTE: \"total\", \"posNeg\", \"hospitalized\" will b...  "
      ]
     },
     "execution_count": 38,
     "metadata": {},
     "output_type": "execute_result"
    }
   ],
   "source": [
    "us_current = pd.read_csv(\"us_current.csv\", delimiter=\",\")\n",
    "us_current.head()"
   ]
  },
  {
   "cell_type": "code",
   "execution_count": 39,
   "metadata": {},
   "outputs": [
    {
     "data": {
      "text/plain": [
       "(1, 18)"
      ]
     },
     "execution_count": 39,
     "metadata": {},
     "output_type": "execute_result"
    }
   ],
   "source": [
    "us_current.shape"
   ]
  },
  {
   "cell_type": "code",
   "execution_count": null,
   "metadata": {},
   "outputs": [],
   "source": []
  }
 ],
 "metadata": {
  "kernelspec": {
   "display_name": "Python 3",
   "language": "python",
   "name": "python3"
  },
  "language_info": {
   "codemirror_mode": {
    "name": "ipython",
    "version": 3
   },
   "file_extension": ".py",
   "mimetype": "text/x-python",
   "name": "python",
   "nbconvert_exporter": "python",
   "pygments_lexer": "ipython3",
   "version": "3.7.0"
  }
 },
 "nbformat": 4,
 "nbformat_minor": 2
}
